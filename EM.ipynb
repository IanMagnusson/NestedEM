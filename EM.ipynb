{
 "cells": [
  {
   "cell_type": "markdown",
   "metadata": {
    "collapsed": true,
    "pycharm": {
     "is_executing": false,
     "name": "#%% md\n"
    }
   },
   "source": [
    "# EM Algorithm\n",
    "Problem 3 homework 2"
   ]
  },
  {
   "cell_type": "code",
   "execution_count": 244,
   "outputs": [
    {
     "name": "stdout",
     "text": [
      "The autoreload extension is already loaded. To reload it, use:\n  %reload_ext autoreload\n"
     ],
     "output_type": "stream"
    }
   ],
   "source": [
    "%load_ext autoreload\n",
    "%autoreload 2\n",
    "import numpy as np\n",
    "import data_generator\n",
    "import em_implementation\n",
    "import utilities"
   ],
   "metadata": {
    "collapsed": false,
    "pycharm": {
     "name": "#%%\n",
     "is_executing": false
    }
   }
  },
  {
   "cell_type": "markdown",
   "source": [
    "## Build DataGenerator with True Parameters\n",
    "\n",
    "Notes: smaller evaluations with B = 20 experiments tested several different arrangement of true parameters and weights.\n",
    "Means that were far apart caused easy convergence, but also caused underflow if initial means were not chosen from\n",
    "different starting components. Very close means cause issues even if there are significant differences in the sigmas.\n",
    "the model still achieves moderate accuracy, but can have issues with underflow due to one of the sigmas becoming very\n",
    "small. Reversing the order of the higher mean can cause the parameters to be\n",
    "learned for the opposite components. The values still converge to good approximates but the order switches because the\n",
    "centroids end up on the other sides. A range of weights combinations were also tried, with all cases successful.\n",
    "\n"
   ],
   "metadata": {
    "collapsed": false,
    "pycharm": {
     "name": "#%% md\n"
    }
   }
  },
  {
   "cell_type": "code",
   "execution_count": 261,
   "outputs": [],
   "source": [
    "MEANS = [1000, -20]\n",
    "STANDARD_DEVIATIONS = [5, 0.25]\n",
    "\n",
    "# weights for first of two components\n",
    "ALPHA = 0.1\n",
    "BETA = 0.9\n",
    "\n",
    "gen = data_generator.DataGenerator(2,MEANS,STANDARD_DEVIATIONS)"
   ],
   "metadata": {
    "collapsed": false,
    "pycharm": {
     "name": "#%%\n",
     "is_executing": false
    }
   }
  },
  {
   "cell_type": "markdown",
   "source": [
    "## Evaluation 1: m, n = 100\n",
    "\n",
    "Notes: The full data noticeably improves the accuracy and stability of estimates compared to the partial data.\n",
    "This makes intuitive sense because there is effectively twice as much data. Also note the reduced variance for the\n",
    "second component in the full data compared to the partial. This may be due to the greater amount of data or also\n",
    "because the partial is only relying on information with a 0.8 weight towards component with the high variance estimates. "
   ],
   "metadata": {
    "collapsed": false,
    "pycharm": {
     "name": "#%% md\n",
     "is_executing": false
    }
   }
  },
  {
   "cell_type": "raw",
   "source": [
    "MEANS = [4.5, -3.5]\n",
    "STANDARD_DEVIATIONS = [2.5, 0.25]\n",
    "ALPHA = 0.4\n",
    "BETA = 0.8\n",
    "B = 1000\n",
    "M, n = 100\n",
    "\n",
    "****** partial data results *******\n",
    "mu means: [4.518687636103337, -3.1753173486756516]\n",
    "mu variances: [0.09759593158588642, 1.5160403709240224]\n",
    "sigma means: [2.4167123651965134, 0.5129393002691209]\n",
    "sigma variances: [0.07882953834030851, 1.0431727833632138]\n",
    "beta means: 0.7759519944542738\n",
    "beta variances: 0.008465485893130162\n",
    "\n",
    "\n",
    "****** full data results *******\n",
    "mu means: [4.494356789973491, -3.4998645619710405]\n",
    "mu variances: [0.054388004387335084, 0.0007931919354386998]\n",
    "sigma means: [2.4870322537326452, 0.24662409526749804]\n",
    "sigma variances: [0.026189999757353682, 0.0004046661196388699]\n",
    "alpha means: 0.399340781916612\n",
    "alpha variances: 0.0022573046382196546\n",
    "beta means: 0.7996477367430143\n",
    "beta variances: 0.0014888736600144903\n"
   ],
   "metadata": {
    "collapsed": false,
    "pycharm": {
     "name": "#%% raw\n"
    }
   }
  },
  {
   "cell_type": "markdown",
   "source": [
    "## Evaluation 2: m, n = 1000\n",
    "Notes: This larger trial further supports the conclusions from the previous evaluation. It also shows greater accuracy\n",
    "and stability for both the partial and full data compared to the previous trial. This shows that larger datasets are\n",
    "are also favorable for the partial training algorithm. This does not appear to make up for the issue with the heavily\n",
    "weighted component in the partial data having higher variance in its estimates."
   ],
   "metadata": {
    "collapsed": false,
    "pycharm": {
     "name": "#%% md\n"
    }
   }
  },
  {
   "cell_type": "raw",
   "source": [
    "MEANS = [4.5, -3.5]\n",
    "STANDARD_DEVIATIONS = [2.5, 0.25]\n",
    "ALPHA = 0.4\n",
    "BETA = 0.8\n",
    "B = 1000\n",
    "M, n = 100\n",
    "\n",
    "****** partial data results *******\n",
    "mu means: [4.505557136097958, -3.4636827797896963]\n",
    "mu variances: [0.011362691783113754, 0.13912564762522836]\n",
    "sigma means: [2.494169253688083, 0.2841100952422203]\n",
    "sigma variances: [0.006578007033815644, 0.11939745619322767]\n",
    "beta means: 0.7977877224521351\n",
    "beta variances: 0.0008904898126709888\n",
    "\n",
    "\n",
    "****** full data results *******\n",
    "mu means: [4.498472861668103, -3.499702236813232]\n",
    "mu variances: [0.005068899391565506, 8.677535465332804e-05]\n",
    "sigma means: [2.498883502715743, 0.24987747960622902]\n",
    "sigma variances: [0.0030393496190142507, 3.9106211298193916e-05]\n",
    "alpha means: 0.3995532322863421\n",
    "alpha variances: 0.0002470342794184324\n",
    "beta means: 0.800458343648992\n",
    "beta variances: 0.0001555979483667243\n",
    "\n"
   ],
   "metadata": {
    "collapsed": false,
    "pycharm": {
     "name": "#%% raw\n"
    }
   }
  },
  {
   "cell_type": "markdown",
   "source": [
    "## Run the EM Algorithm!\n",
    "\n",
    "Notes: various stoppage conditions were examined. Examining log likelihood proved problematic because logs of unlikely\n",
    "individual data points can cause issues from underflow. By itself, simple stoppage after a fixed number of steps worked\n",
    "well enough if the number of steps was sufficiently high. However this was computationally wasteful. By adding a check\n",
    "to see if none of the parameters had updated, an earlier termination can be achieved. This did not appear to affect\n",
    "accuracy, as differences in estimates from step to step never increased once reaching 0.0.\n",
    "\n",
    "Also of interest, initial experiments used random selection to choose starting mean values. This produced very poor\n",
    "results when both both means were chosen from the same component. As simple alternative, later experiments select the \n",
    "extrema of the dataset to ensure that the means are not close together and most likely represent both components. Further\n",
    "research could investigate the effect of this choice on handling mostly overlapping distributions. Initial investigation\n",
    "suggests it does no worse with this edge case than random selection."
   ],
   "metadata": {
    "collapsed": false,
    "pycharm": {
     "name": "#%% md\n"
    }
   }
  },
  {
   "cell_type": "code",
   "execution_count": 263,
   "outputs": [
    {
     "name": "stdout",
     "text": [
      "****** partial data results *******\nmu means: [999.9772292087641, -20.000184416733113]\nmu variances: [0.28355629746937494, 0.006502750630676686]\nsigma means: [4.939195169225679, 0.2256925585881193]\nsigma variances: [0.12541971419509979, 0.0032181072888461454]\nbeta means: 0.8995700000000001\nbeta variances: 0.0008593151000000003\n\n\n****** full data results *******\nmu means: [999.9849608942054, -19.99954369833766]\nmu variances: [0.24792122609370673, 0.0006216510364478071]\nsigma means: [4.949536892581556, 0.2478074206026152]\nsigma variances: [0.11034819033452403, 0.00028823227791763143]\nalpha means: 0.10061000000000002\nalpha variances: 0.0009521278999999998\nbeta means: 0.8995700000000001\nbeta variances: 0.0008593151000000003\n"
     ],
     "output_type": "stream"
    }
   ],
   "source": [
    "m = 100\n",
    "n = 100\n",
    "\n",
    "np.random.seed(12345)\n",
    "\n",
    "#Repeat experiment B times\n",
    "B = 1000\n",
    "\n",
    "mean_partial_results = []\n",
    "standard_deviation_partial_results = []\n",
    "beta_partial_results = []\n",
    "\n",
    "mean_results = []\n",
    "standard_deviation_results = []\n",
    "alpha_results = []\n",
    "beta_results = []\n",
    "\n",
    "for i in range(B):\n",
    "    # get data\n",
    "    D_x = gen.get_data([ALPHA, 1-ALPHA], m)\n",
    "    D_y = gen.get_data([BETA, 1-BETA], n)\n",
    "    \n",
    "    # estimate parameters and weights from just D_y\n",
    "    means, standard_deviations, beta = em_implementation.compute_EM(D_y)\n",
    "    \n",
    "    mean_partial_results.append(means)\n",
    "    standard_deviation_partial_results.append(standard_deviations)\n",
    "    beta_partial_results.append(beta)\n",
    "    \n",
    "    # estimate parameters and weights from full data\n",
    "    means, standard_deviations, alpha, beta = em_implementation.compute_EM_two_datasets(D_x, D_y)\n",
    "    \n",
    "    mean_results.append(means)\n",
    "    standard_deviation_results.append(standard_deviations)\n",
    "    alpha_results.append(alpha)\n",
    "    beta_results.append(beta)\n",
    "\n",
    "\n",
    "print('****** partial data results *******')\n",
    "print('mu means:', utilities.get_sample_means(mean_partial_results))\n",
    "print('mu variances:', utilities.get_sample_variance(mean_partial_results))\n",
    "\n",
    "print('sigma means:', utilities.get_sample_means(standard_deviation_partial_results))\n",
    "print('sigma variances:', utilities.get_sample_variance(standard_deviation_partial_results))\n",
    "\n",
    "print('beta means:', utilities.get_sample_means(beta_partial_results))\n",
    "print('beta variances:', utilities.get_sample_variance(beta_partial_results))\n",
    "\n",
    "\n",
    "print('\\n\\n****** full data results *******')\n",
    "print('mu means:', utilities.get_sample_means(mean_results))\n",
    "print('mu variances:', utilities.get_sample_variance(mean_results))\n",
    "\n",
    "print('sigma means:', utilities.get_sample_means(standard_deviation_results))\n",
    "print('sigma variances:', utilities.get_sample_variance(standard_deviation_results))\n",
    "\n",
    "print('alpha means:', utilities.get_sample_means(alpha_results))\n",
    "print('alpha variances:', utilities.get_sample_variance(alpha_results))\n",
    "\n",
    "print('beta means:', utilities.get_sample_means(beta_results))\n",
    "print('beta variances:', utilities.get_sample_variance(beta_results))"
   ],
   "metadata": {
    "collapsed": false,
    "pycharm": {
     "name": "#%%\n",
     "is_executing": false
    }
   }
  },
  {
   "cell_type": "markdown",
   "source": [
    "## Additional experiments"
   ],
   "metadata": {
    "collapsed": false,
    "pycharm": {
     "name": "#%% md\n"
    }
   }
  },
  {
   "cell_type": "raw",
   "source": [
    "\n",
    "Max step / parameter stabilization stoppage\n",
    "Extrama initialization\n",
    "\n",
    "MEANS = [1000, -20]\n",
    "STANDARD_DEVIATIONS = [5, 0.25]\n",
    "\n",
    "# weights for first of two components\n",
    "ALPHA = 0.1\n",
    "BETA = 0.9\n",
    "\n",
    "B = 1000\n",
    "\n",
    "M, n = 100\n",
    "\n",
    "****** partial data results *******\n",
    "mu means: [999.9772292087641, -20.000184416733113]\n",
    "mu variances: [0.28355629746937494, 0.006502750630676686]\n",
    "sigma means: [4.939195169225679, 0.2256925585881193]\n",
    "sigma variances: [0.12541971419509979, 0.0032181072888461454]\n",
    "beta means: 0.8995700000000001\n",
    "beta variances: 0.0008593151000000003\n",
    "\n",
    "\n",
    "****** full data results *******\n",
    "mu means: [999.9849608942054, -19.99954369833766]\n",
    "mu variances: [0.24792122609370673, 0.0006216510364478071]\n",
    "sigma means: [4.949536892581556, 0.2478074206026152]\n",
    "sigma variances: [0.11034819033452403, 0.00028823227791763143]\n",
    "alpha means: 0.10061000000000002\n",
    "alpha variances: 0.0009521278999999998\n",
    "beta means: 0.8995700000000001\n",
    "beta variances: 0.0008593151000000003\n",
    "\n",
    "—————————\n",
    "\n",
    "Max step / parameter stabilization stoppage\n",
    "Extrama initialization\n",
    "\n",
    "MEANS = [1, 0]\n",
    "STANDARD_DEVIATIONS = [5, 0.25]\n",
    "\n",
    "# weights for first of two components\n",
    "ALPHA = 0.4\n",
    "BETA = 0.8\n",
    "\n",
    "B = 1000\n",
    "\n",
    "M, n = 100\n",
    "\n",
    "partial data failed due to underflow\n",
    "\n",
    "****** full data results *******\n",
    "mu means: [2.761859404176028, -0.20306506782907843]\n",
    "mu variances: [10.518233855914406, 2.2536237282609974]\n",
    "sigma means: [3.4236191167726973, 1.8873514946755632]\n",
    "sigma variances: [3.343973397815988, 3.3942288452632723]\n",
    "alpha means: 0.35744234736319513\n",
    "alpha variances: 0.049026354590049205\n",
    "beta means: 0.5230479567062355\n",
    "beta variances: 0.09881107449239175\n",
    "\n",
    "\n",
    "—————————\n",
    "Max step / parameter stabilization stoppage\n",
    "Extrama initialization\n",
    "\n",
    "MEANS = [4.5, -3.5]\n",
    "STANDARD_DEVIATIONS = [2.5, 0.25]\n",
    "\n",
    "# weights for first of two components\n",
    "ALPHA = 0.4\n",
    "BETA = 0.8\n",
    "\n",
    "\n",
    "B = 1000\n",
    "\n",
    "M, n = 1000\n",
    "****** partial data results *******\n",
    "mu means: [4.505557136097958, -3.4636827797896963]\n",
    "mu variances: [0.011362691783113754, 0.13912564762522836]\n",
    "sigma means: [2.494169253688083, 0.2841100952422203]\n",
    "sigma variances: [0.006578007033815644, 0.11939745619322767]\n",
    "beta means: 0.7977877224521351\n",
    "beta variances: 0.0008904898126709888\n",
    "\n",
    "\n",
    "****** full data results *******\n",
    "mu means: [4.498472861668103, -3.499702236813232]\n",
    "mu variances: [0.005068899391565506, 8.677535465332804e-05]\n",
    "sigma means: [2.498883502715743, 0.24987747960622902]\n",
    "sigma variances: [0.0030393496190142507, 3.9106211298193916e-05]\n",
    "alpha means: 0.3995532322863421\n",
    "alpha variances: 0.0002470342794184324\n",
    "beta means: 0.800458343648992\n",
    "beta variances: 0.0001555979483667243\n",
    "\n",
    "—————————\n",
    "Max step / parameter stabilization stoppage\n",
    "Extrama initialization\n",
    "\n",
    "MEANS = [4.5, -3.5]\n",
    "STANDARD_DEVIATIONS = [2.5, 0.25]\n",
    "\n",
    "# weights for first of two components\n",
    "ALPHA = 0.4\n",
    "BETA = 0.8\n",
    "\n",
    "\n",
    "B = 1000\n",
    "\n",
    "M, n = 100\n",
    "\n",
    "****** partial data results *******\n",
    "mu means: [4.518687636103337, -3.1753173486756516]\n",
    "mu variances: [0.09759593158588642, 1.5160403709240224]\n",
    "sigma means: [2.4167123651965134, 0.5129393002691209]\n",
    "sigma variances: [0.07882953834030851, 1.0431727833632138]\n",
    "beta means: 0.7759519944542738\n",
    "beta variances: 0.008465485893130162\n",
    "\n",
    "\n",
    "****** full data results *******\n",
    "mu means: [4.494356789973491, -3.4998645619710405]\n",
    "mu variances: [0.054388004387335084, 0.0007931919354386998]\n",
    "sigma means: [2.4870322537326452, 0.24662409526749804]\n",
    "sigma variances: [0.026189999757353682, 0.0004046661196388699]\n",
    "alpha means: 0.399340781916612\n",
    "alpha variances: 0.0022573046382196546\n",
    "beta means: 0.7996477367430143\n",
    "beta variances: 0.0014888736600144903\n",
    "\n",
    "\n",
    "\n",
    "—————————\n",
    "Max step stoppage\n",
    "Extrama initialization\n",
    "\n",
    "MEANS = [4.5, -3.5]\n",
    "STANDARD_DEVIATIONS = [2.5, 0.25]\n",
    "\n",
    "# weights for first of two components\n",
    "ALPHA = 0.4\n",
    "BETA = 0.8\n",
    "\n",
    "\n",
    "B = 20\n",
    "\n",
    "M, n = 100\n",
    "\n",
    "****** partial data results *******\n",
    "mu means: [4.510998082272516, -3.5073668011246517]\n",
    "mu variances: [0.07623880885251008, 0.0019075378392323424]\n",
    "sigma means: [4.510998082272516, -3.5073668011246517]\n",
    "sigma variances: [0.07623880885251008, 0.0019075378392323424]\n",
    "beta means: 0.7998567308225261\n",
    "beta variances: 0.0010456816993961583\n",
    "\n",
    "\n",
    "****** full data results *******\n",
    "mu means: [4.531692308599192, -3.503665662274927]\n",
    "mu variances: [0.06268933663811618, 0.0008176427631980453]\n",
    "sigma means: [4.531692308599192, -3.503665662274927]\n",
    "sigma variances: [0.06268933663811618, 0.0008176427631980453]\n",
    "alpha means: 0.3951001675815616\n",
    "alpha variances: 0.0014753746080325854\n",
    "beta means: 0.7992530133436971\n",
    "beta variances: 0.0010057107095734715\n"
   ],
   "metadata": {
    "collapsed": false,
    "pycharm": {
     "name": "#%% raw\n"
    }
   }
  }
 ],
 "metadata": {
  "kernelspec": {
   "display_name": "Python 3",
   "language": "python",
   "name": "python3"
  },
  "language_info": {
   "codemirror_mode": {
    "name": "ipython",
    "version": 2
   },
   "file_extension": ".py",
   "mimetype": "text/x-python",
   "name": "python",
   "nbconvert_exporter": "python",
   "pygments_lexer": "ipython2",
   "version": "2.7.6"
  },
  "pycharm": {
   "stem_cell": {
    "cell_type": "raw",
    "source": [],
    "metadata": {
     "collapsed": false
    }
   }
  }
 },
 "nbformat": 4,
 "nbformat_minor": 0
}